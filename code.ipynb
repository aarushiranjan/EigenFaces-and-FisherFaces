{
 "cells": [
  {
   "cell_type": "code",
   "execution_count": 1,
   "id": "thermal-sense",
   "metadata": {},
   "outputs": [],
   "source": [
    "import numpy as np\n",
    "import os\n",
    "import cv2\n",
    "from PIL import Image\n",
    "from sklearn.model_selection import train_test_split\n",
    "from sklearn.preprocessing import MinMaxScaler\n",
    "from sklearn.svm import SVC\n",
    "import matplotlib.pyplot as plt"
   ]
  },
  {
   "cell_type": "code",
   "execution_count": 2,
   "id": "greenhouse-integer",
   "metadata": {},
   "outputs": [],
   "source": [
    "def get_images_and_labels(path):\n",
    " image_paths = [os.path.join(path, f) for f in os.listdir(path)]\n",
    " images = []\n",
    " labels = []\n",
    " for image_path in image_paths:\n",
    "        image_pil = Image.open(image_path).convert('L')\n",
    "        image = np.array(image_pil, 'uint8')\n",
    "        nbr = int(os.path.split(image_path)[1].split(\".\")[0].replace(\"subject\", \"\"))\n",
    "        labels.append(nbr)\n",
    "        images.append(image)\n",
    " return images, labels\n",
    "\n",
    "def eigen_decompose(data,num_PCA_components):\n",
    "    inp_dim=data.shape[1]\n",
    "    num_train=data.shape[0]\n",
    "    #principal component analysis\n",
    "    mean_face, eigen_vec=cv2.PCACompute(data, mean=None, maxComponents=num_PCA_components)\n",
    "    return mean_face, eigen_vec\n",
    "\n",
    "def feature_transform(data,eigens,mean):\n",
    "    num_train=data.shape[0]\n",
    "    inp_dim=data.shape[1]\n",
    "    m=np.zeros([num_train, inp_dim])\n",
    "    for k in range(num_train):\n",
    "        m[k,:]=mean\n",
    "    d=np.transpose(data-mean)\n",
    "    features=np.dot(eigens, d)\n",
    "    f=np.transpose(features)\n",
    "    return f\n",
    "\n"
   ]
  },
  {
   "cell_type": "code",
   "execution_count": 3,
   "id": "external-mambo",
   "metadata": {},
   "outputs": [
    {
     "name": "stdout",
     "output_type": "stream",
     "text": [
      "100.0\n",
      "DONE...........\n"
     ]
    }
   ],
   "source": [
    "if __name__ == '__main__':\n",
    "    #loading the images\n",
    "    path =\"C:\\\\Users\\\\aarus\\\\Downloads\\\\ELL784\\\\Assignments\\\\Assignment2\\\\yalefaces\"\n",
    "    images_read, labels = get_images_and_labels(path)\n",
    "    labels=np.array(labels)\n",
    "    #creating data matrix\n",
    "    num_images=164\n",
    "    height=243\n",
    "    width=320\n",
    "    input_dimension=height*width\n",
    "    data_matrix=np.zeros([num_images, input_dimension])\n",
    "    for n_idx in range(num_images):\n",
    "        data_matrix[n_idx,:]=images_read[n_idx].flatten()\n",
    "    #training and test sets\n",
    "    data_train, data_test, label_train, label_test = train_test_split(data_matrix, labels, test_size=0.1)\n",
    "    num_test=data_test.shape[0]\n",
    "    #eigenfaces using PCA\n",
    "    num_PCA_components=50\n",
    "    mean, eigens=eigen_decompose(data_train,num_PCA_components)\n",
    "   \n",
    "    \n",
    "    #feature transformation\n",
    "    feature_train=feature_transform(data_train,eigens,mean)\n",
    "    #training the SVM classifier with linaer kernel\n",
    "    svm_model_linear = SVC(kernel = 'linear', C = 1).fit(feature_train, label_train)\n",
    "    #testing\n",
    "    feature_test=feature_transform(data_test,eigens,mean)\n",
    "    svm_predictions = svm_model_linear.predict(feature_test)\n",
    "    accuracy = svm_model_linear.score(feature_test, label_test)\n",
    "    print(100*accuracy)\n",
    "    #mean and eigenfaces\n",
    "    mean_face=np.reshape(mean, [height,width])\n",
    "    mean_img=Image.fromarray(mean_face)\n",
    "    mean_img.show()\n",
    "    #cv2.imwrite(\"mean face eigen.jpg\", mean_face)\n",
    "    #for k in range(num_PCA_components):\n",
    "    #    filename=\"Eigenface\"+str(k+1)+\".jpg\"\n",
    "    #    eigen_face=np.reshape(eigens[k,:]+mean, [height,width])\n",
    "    #    cv2.imwrite(filename, eigen_face)\n",
    "    print(\"DONE...........\")\n"
   ]
  },
  {
   "cell_type": "code",
   "execution_count": null,
   "id": "guided-complexity",
   "metadata": {},
   "outputs": [],
   "source": []
  }
 ],
 "metadata": {
  "kernelspec": {
   "display_name": "Python 3",
   "language": "python",
   "name": "python3"
  },
  "language_info": {
   "codemirror_mode": {
    "name": "ipython",
    "version": 3
   },
   "file_extension": ".py",
   "mimetype": "text/x-python",
   "name": "python",
   "nbconvert_exporter": "python",
   "pygments_lexer": "ipython3",
   "version": "3.8.8"
  }
 },
 "nbformat": 4,
 "nbformat_minor": 5
}
